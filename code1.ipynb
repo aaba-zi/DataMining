{
 "cells": [
  {
   "cell_type": "code",
   "execution_count": 76,
   "metadata": {},
   "outputs": [],
   "source": [
    "import pandas as pd\n",
    "import numpy as np\n",
    "# import library\n",
    "\n",
    "io = \"B:\\data_mining-master\\sleep1.csv\"\n",
    "data = pd.read_csv(io)\n",
    "# read csv file"
   ]
  },
  {
   "cell_type": "code",
   "execution_count": 77,
   "metadata": {
    "scrolled": true
   },
   "outputs": [
    {
     "data": {
      "text/html": [
       "<div>\n",
       "<style scoped>\n",
       "    .dataframe tbody tr th:only-of-type {\n",
       "        vertical-align: middle;\n",
       "    }\n",
       "\n",
       "    .dataframe tbody tr th {\n",
       "        vertical-align: top;\n",
       "    }\n",
       "\n",
       "    .dataframe thead th {\n",
       "        text-align: right;\n",
       "    }\n",
       "</style>\n",
       "<table border=\"1\" class=\"dataframe\">\n",
       "  <thead>\n",
       "    <tr style=\"text-align: right;\">\n",
       "      <th></th>\n",
       "      <th>species</th>\n",
       "      <th>slowWaveSleep</th>\n",
       "      <th>dreamSleep</th>\n",
       "      <th>sleep</th>\n",
       "      <th>body</th>\n",
       "      <th>brain</th>\n",
       "      <th>life</th>\n",
       "      <th>gestation</th>\n",
       "      <th>predation</th>\n",
       "      <th>sleepExposure</th>\n",
       "      <th>danger</th>\n",
       "    </tr>\n",
       "  </thead>\n",
       "  <tbody>\n",
       "    <tr>\n",
       "      <th>0</th>\n",
       "      <td>African_elephant</td>\n",
       "      <td>NaN</td>\n",
       "      <td>NaN</td>\n",
       "      <td>3.3</td>\n",
       "      <td>6654.000</td>\n",
       "      <td>5712.0</td>\n",
       "      <td>38.6</td>\n",
       "      <td>645.0</td>\n",
       "      <td>3</td>\n",
       "      <td>5</td>\n",
       "      <td>3</td>\n",
       "    </tr>\n",
       "    <tr>\n",
       "      <th>1</th>\n",
       "      <td>African_giant_pouched_rat</td>\n",
       "      <td>6.3</td>\n",
       "      <td>2.0</td>\n",
       "      <td>8.3</td>\n",
       "      <td>1.000</td>\n",
       "      <td>6.6</td>\n",
       "      <td>4.5</td>\n",
       "      <td>42.0</td>\n",
       "      <td>3</td>\n",
       "      <td>1</td>\n",
       "      <td>3</td>\n",
       "    </tr>\n",
       "    <tr>\n",
       "      <th>2</th>\n",
       "      <td>Arctic_Fox</td>\n",
       "      <td>NaN</td>\n",
       "      <td>NaN</td>\n",
       "      <td>12.5</td>\n",
       "      <td>3.385</td>\n",
       "      <td>44.5</td>\n",
       "      <td>14.0</td>\n",
       "      <td>60.0</td>\n",
       "      <td>1</td>\n",
       "      <td>1</td>\n",
       "      <td>1</td>\n",
       "    </tr>\n",
       "    <tr>\n",
       "      <th>3</th>\n",
       "      <td>Arctic_ground_squirrel</td>\n",
       "      <td>NaN</td>\n",
       "      <td>NaN</td>\n",
       "      <td>16.5</td>\n",
       "      <td>0.920</td>\n",
       "      <td>5.7</td>\n",
       "      <td>NaN</td>\n",
       "      <td>25.0</td>\n",
       "      <td>5</td>\n",
       "      <td>2</td>\n",
       "      <td>3</td>\n",
       "    </tr>\n",
       "    <tr>\n",
       "      <th>4</th>\n",
       "      <td>Asian_elephant</td>\n",
       "      <td>2.1</td>\n",
       "      <td>1.8</td>\n",
       "      <td>3.9</td>\n",
       "      <td>2547.000</td>\n",
       "      <td>4603.0</td>\n",
       "      <td>69.0</td>\n",
       "      <td>624.0</td>\n",
       "      <td>3</td>\n",
       "      <td>5</td>\n",
       "      <td>4</td>\n",
       "    </tr>\n",
       "    <tr>\n",
       "      <th>...</th>\n",
       "      <td>...</td>\n",
       "      <td>...</td>\n",
       "      <td>...</td>\n",
       "      <td>...</td>\n",
       "      <td>...</td>\n",
       "      <td>...</td>\n",
       "      <td>...</td>\n",
       "      <td>...</td>\n",
       "      <td>...</td>\n",
       "      <td>...</td>\n",
       "      <td>...</td>\n",
       "    </tr>\n",
       "    <tr>\n",
       "      <th>57</th>\n",
       "      <td>Tree_hyrax</td>\n",
       "      <td>4.9</td>\n",
       "      <td>0.5</td>\n",
       "      <td>5.4</td>\n",
       "      <td>2.000</td>\n",
       "      <td>12.3</td>\n",
       "      <td>7.5</td>\n",
       "      <td>200.0</td>\n",
       "      <td>3</td>\n",
       "      <td>1</td>\n",
       "      <td>3</td>\n",
       "    </tr>\n",
       "    <tr>\n",
       "      <th>58</th>\n",
       "      <td>Tree_shrew</td>\n",
       "      <td>13.2</td>\n",
       "      <td>2.6</td>\n",
       "      <td>15.8</td>\n",
       "      <td>0.104</td>\n",
       "      <td>2.5</td>\n",
       "      <td>2.3</td>\n",
       "      <td>46.0</td>\n",
       "      <td>3</td>\n",
       "      <td>2</td>\n",
       "      <td>2</td>\n",
       "    </tr>\n",
       "    <tr>\n",
       "      <th>59</th>\n",
       "      <td>Vervet</td>\n",
       "      <td>9.7</td>\n",
       "      <td>0.6</td>\n",
       "      <td>10.3</td>\n",
       "      <td>4.190</td>\n",
       "      <td>58.0</td>\n",
       "      <td>24.0</td>\n",
       "      <td>210.0</td>\n",
       "      <td>4</td>\n",
       "      <td>3</td>\n",
       "      <td>4</td>\n",
       "    </tr>\n",
       "    <tr>\n",
       "      <th>60</th>\n",
       "      <td>Water_opossum</td>\n",
       "      <td>12.8</td>\n",
       "      <td>6.6</td>\n",
       "      <td>19.4</td>\n",
       "      <td>3.500</td>\n",
       "      <td>3.9</td>\n",
       "      <td>3.0</td>\n",
       "      <td>14.0</td>\n",
       "      <td>2</td>\n",
       "      <td>1</td>\n",
       "      <td>1</td>\n",
       "    </tr>\n",
       "    <tr>\n",
       "      <th>61</th>\n",
       "      <td>Yellow-bellied_marmot</td>\n",
       "      <td>NaN</td>\n",
       "      <td>NaN</td>\n",
       "      <td>NaN</td>\n",
       "      <td>4.050</td>\n",
       "      <td>17.0</td>\n",
       "      <td>13.0</td>\n",
       "      <td>38.0</td>\n",
       "      <td>3</td>\n",
       "      <td>1</td>\n",
       "      <td>1</td>\n",
       "    </tr>\n",
       "  </tbody>\n",
       "</table>\n",
       "<p>62 rows × 11 columns</p>\n",
       "</div>"
      ],
      "text/plain": [
       "                      species  slowWaveSleep  dreamSleep  sleep      body  \\\n",
       "0            African_elephant            NaN         NaN    3.3  6654.000   \n",
       "1   African_giant_pouched_rat            6.3         2.0    8.3     1.000   \n",
       "2                  Arctic_Fox            NaN         NaN   12.5     3.385   \n",
       "3      Arctic_ground_squirrel            NaN         NaN   16.5     0.920   \n",
       "4              Asian_elephant            2.1         1.8    3.9  2547.000   \n",
       "..                        ...            ...         ...    ...       ...   \n",
       "57                 Tree_hyrax            4.9         0.5    5.4     2.000   \n",
       "58                 Tree_shrew           13.2         2.6   15.8     0.104   \n",
       "59                     Vervet            9.7         0.6   10.3     4.190   \n",
       "60              Water_opossum           12.8         6.6   19.4     3.500   \n",
       "61      Yellow-bellied_marmot            NaN         NaN    NaN     4.050   \n",
       "\n",
       "     brain  life  gestation  predation  sleepExposure  danger  \n",
       "0   5712.0  38.6      645.0          3              5       3  \n",
       "1      6.6   4.5       42.0          3              1       3  \n",
       "2     44.5  14.0       60.0          1              1       1  \n",
       "3      5.7   NaN       25.0          5              2       3  \n",
       "4   4603.0  69.0      624.0          3              5       4  \n",
       "..     ...   ...        ...        ...            ...     ...  \n",
       "57    12.3   7.5      200.0          3              1       3  \n",
       "58     2.5   2.3       46.0          3              2       2  \n",
       "59    58.0  24.0      210.0          4              3       4  \n",
       "60     3.9   3.0       14.0          2              1       1  \n",
       "61    17.0  13.0       38.0          3              1       1  \n",
       "\n",
       "[62 rows x 11 columns]"
      ]
     },
     "execution_count": 77,
     "metadata": {},
     "output_type": "execute_result"
    }
   ],
   "source": [
    "data # have a glimpse of data"
   ]
  },
  {
   "cell_type": "code",
   "execution_count": 78,
   "metadata": {},
   "outputs": [],
   "source": [
    "data = pd.DataFrame(data)\n",
    "for column in list(data.columns[data.isnull().sum() > 0]):\n",
    "    mean_val = data[column].mean()\n",
    "    data[column].fillna(mean_val, inplace=True) \n",
    "data[\"sleep\"] = data[\"slowWaveSleep\"].add(data[\"dreamSleep\"])\n",
    "df = data\n",
    "# fill NAs with mean value"
   ]
  },
  {
   "cell_type": "code",
   "execution_count": 79,
   "metadata": {},
   "outputs": [
    {
     "data": {
      "text/html": [
       "<div>\n",
       "<style scoped>\n",
       "    .dataframe tbody tr th:only-of-type {\n",
       "        vertical-align: middle;\n",
       "    }\n",
       "\n",
       "    .dataframe tbody tr th {\n",
       "        vertical-align: top;\n",
       "    }\n",
       "\n",
       "    .dataframe thead th {\n",
       "        text-align: right;\n",
       "    }\n",
       "</style>\n",
       "<table border=\"1\" class=\"dataframe\">\n",
       "  <thead>\n",
       "    <tr style=\"text-align: right;\">\n",
       "      <th></th>\n",
       "      <th>species</th>\n",
       "      <th>slowWaveSleep</th>\n",
       "      <th>dreamSleep</th>\n",
       "      <th>sleep</th>\n",
       "      <th>body</th>\n",
       "      <th>brain</th>\n",
       "      <th>life</th>\n",
       "      <th>gestation</th>\n",
       "      <th>predation</th>\n",
       "      <th>sleepExposure</th>\n",
       "      <th>danger</th>\n",
       "    </tr>\n",
       "  </thead>\n",
       "  <tbody>\n",
       "    <tr>\n",
       "      <th>0</th>\n",
       "      <td>African_elephant</td>\n",
       "      <td>8.672917</td>\n",
       "      <td>1.972</td>\n",
       "      <td>10.644917</td>\n",
       "      <td>6654.000</td>\n",
       "      <td>5712.0</td>\n",
       "      <td>38.600000</td>\n",
       "      <td>645.0</td>\n",
       "      <td>3</td>\n",
       "      <td>5</td>\n",
       "      <td>3</td>\n",
       "    </tr>\n",
       "    <tr>\n",
       "      <th>1</th>\n",
       "      <td>African_giant_pouched_rat</td>\n",
       "      <td>6.300000</td>\n",
       "      <td>2.000</td>\n",
       "      <td>8.300000</td>\n",
       "      <td>1.000</td>\n",
       "      <td>6.6</td>\n",
       "      <td>4.500000</td>\n",
       "      <td>42.0</td>\n",
       "      <td>3</td>\n",
       "      <td>1</td>\n",
       "      <td>3</td>\n",
       "    </tr>\n",
       "    <tr>\n",
       "      <th>2</th>\n",
       "      <td>Arctic_Fox</td>\n",
       "      <td>8.672917</td>\n",
       "      <td>1.972</td>\n",
       "      <td>10.644917</td>\n",
       "      <td>3.385</td>\n",
       "      <td>44.5</td>\n",
       "      <td>14.000000</td>\n",
       "      <td>60.0</td>\n",
       "      <td>1</td>\n",
       "      <td>1</td>\n",
       "      <td>1</td>\n",
       "    </tr>\n",
       "    <tr>\n",
       "      <th>3</th>\n",
       "      <td>Arctic_ground_squirrel</td>\n",
       "      <td>8.672917</td>\n",
       "      <td>1.972</td>\n",
       "      <td>10.644917</td>\n",
       "      <td>0.920</td>\n",
       "      <td>5.7</td>\n",
       "      <td>19.877586</td>\n",
       "      <td>25.0</td>\n",
       "      <td>5</td>\n",
       "      <td>2</td>\n",
       "      <td>3</td>\n",
       "    </tr>\n",
       "    <tr>\n",
       "      <th>4</th>\n",
       "      <td>Asian_elephant</td>\n",
       "      <td>2.100000</td>\n",
       "      <td>1.800</td>\n",
       "      <td>3.900000</td>\n",
       "      <td>2547.000</td>\n",
       "      <td>4603.0</td>\n",
       "      <td>69.000000</td>\n",
       "      <td>624.0</td>\n",
       "      <td>3</td>\n",
       "      <td>5</td>\n",
       "      <td>4</td>\n",
       "    </tr>\n",
       "    <tr>\n",
       "      <th>...</th>\n",
       "      <td>...</td>\n",
       "      <td>...</td>\n",
       "      <td>...</td>\n",
       "      <td>...</td>\n",
       "      <td>...</td>\n",
       "      <td>...</td>\n",
       "      <td>...</td>\n",
       "      <td>...</td>\n",
       "      <td>...</td>\n",
       "      <td>...</td>\n",
       "      <td>...</td>\n",
       "    </tr>\n",
       "    <tr>\n",
       "      <th>57</th>\n",
       "      <td>Tree_hyrax</td>\n",
       "      <td>4.900000</td>\n",
       "      <td>0.500</td>\n",
       "      <td>5.400000</td>\n",
       "      <td>2.000</td>\n",
       "      <td>12.3</td>\n",
       "      <td>7.500000</td>\n",
       "      <td>200.0</td>\n",
       "      <td>3</td>\n",
       "      <td>1</td>\n",
       "      <td>3</td>\n",
       "    </tr>\n",
       "    <tr>\n",
       "      <th>58</th>\n",
       "      <td>Tree_shrew</td>\n",
       "      <td>13.200000</td>\n",
       "      <td>2.600</td>\n",
       "      <td>15.800000</td>\n",
       "      <td>0.104</td>\n",
       "      <td>2.5</td>\n",
       "      <td>2.300000</td>\n",
       "      <td>46.0</td>\n",
       "      <td>3</td>\n",
       "      <td>2</td>\n",
       "      <td>2</td>\n",
       "    </tr>\n",
       "    <tr>\n",
       "      <th>59</th>\n",
       "      <td>Vervet</td>\n",
       "      <td>9.700000</td>\n",
       "      <td>0.600</td>\n",
       "      <td>10.300000</td>\n",
       "      <td>4.190</td>\n",
       "      <td>58.0</td>\n",
       "      <td>24.000000</td>\n",
       "      <td>210.0</td>\n",
       "      <td>4</td>\n",
       "      <td>3</td>\n",
       "      <td>4</td>\n",
       "    </tr>\n",
       "    <tr>\n",
       "      <th>60</th>\n",
       "      <td>Water_opossum</td>\n",
       "      <td>12.800000</td>\n",
       "      <td>6.600</td>\n",
       "      <td>19.400000</td>\n",
       "      <td>3.500</td>\n",
       "      <td>3.9</td>\n",
       "      <td>3.000000</td>\n",
       "      <td>14.0</td>\n",
       "      <td>2</td>\n",
       "      <td>1</td>\n",
       "      <td>1</td>\n",
       "    </tr>\n",
       "    <tr>\n",
       "      <th>61</th>\n",
       "      <td>Yellow-bellied_marmot</td>\n",
       "      <td>8.672917</td>\n",
       "      <td>1.972</td>\n",
       "      <td>10.644917</td>\n",
       "      <td>4.050</td>\n",
       "      <td>17.0</td>\n",
       "      <td>13.000000</td>\n",
       "      <td>38.0</td>\n",
       "      <td>3</td>\n",
       "      <td>1</td>\n",
       "      <td>1</td>\n",
       "    </tr>\n",
       "  </tbody>\n",
       "</table>\n",
       "<p>62 rows × 11 columns</p>\n",
       "</div>"
      ],
      "text/plain": [
       "                      species  slowWaveSleep  dreamSleep      sleep      body  \\\n",
       "0            African_elephant       8.672917       1.972  10.644917  6654.000   \n",
       "1   African_giant_pouched_rat       6.300000       2.000   8.300000     1.000   \n",
       "2                  Arctic_Fox       8.672917       1.972  10.644917     3.385   \n",
       "3      Arctic_ground_squirrel       8.672917       1.972  10.644917     0.920   \n",
       "4              Asian_elephant       2.100000       1.800   3.900000  2547.000   \n",
       "..                        ...            ...         ...        ...       ...   \n",
       "57                 Tree_hyrax       4.900000       0.500   5.400000     2.000   \n",
       "58                 Tree_shrew      13.200000       2.600  15.800000     0.104   \n",
       "59                     Vervet       9.700000       0.600  10.300000     4.190   \n",
       "60              Water_opossum      12.800000       6.600  19.400000     3.500   \n",
       "61      Yellow-bellied_marmot       8.672917       1.972  10.644917     4.050   \n",
       "\n",
       "     brain       life  gestation  predation  sleepExposure  danger  \n",
       "0   5712.0  38.600000      645.0          3              5       3  \n",
       "1      6.6   4.500000       42.0          3              1       3  \n",
       "2     44.5  14.000000       60.0          1              1       1  \n",
       "3      5.7  19.877586       25.0          5              2       3  \n",
       "4   4603.0  69.000000      624.0          3              5       4  \n",
       "..     ...        ...        ...        ...            ...     ...  \n",
       "57    12.3   7.500000      200.0          3              1       3  \n",
       "58     2.5   2.300000       46.0          3              2       2  \n",
       "59    58.0  24.000000      210.0          4              3       4  \n",
       "60     3.9   3.000000       14.0          2              1       1  \n",
       "61    17.0  13.000000       38.0          3              1       1  \n",
       "\n",
       "[62 rows x 11 columns]"
      ]
     },
     "execution_count": 79,
     "metadata": {},
     "output_type": "execute_result"
    }
   ],
   "source": [
    "data\n",
    "# check if it is working"
   ]
  },
  {
   "cell_type": "code",
   "execution_count": 80,
   "metadata": {},
   "outputs": [
    {
     "data": {
      "text/plain": [
       "Index(['species', 'slowWaveSleep', 'dreamSleep', 'sleep', 'body', 'brain',\n",
       "       'life', 'gestation', 'predation', 'sleepExposure', 'danger'],\n",
       "      dtype='object')"
      ]
     },
     "execution_count": 80,
     "metadata": {},
     "output_type": "execute_result"
    }
   ],
   "source": [
    "data.keys()\n",
    "# get columns of dataset"
   ]
  },
  {
   "cell_type": "code",
   "execution_count": 81,
   "metadata": {},
   "outputs": [],
   "source": [
    "x = data[['gestation','life','body','brain','predation','sleepExposure','danger']]\n",
    "x = np.array(x)\n",
    "y = data['sleep']\n",
    "y = np.array(y)\n",
    "# find x and y"
   ]
  },
  {
   "cell_type": "code",
   "execution_count": 82,
   "metadata": {},
   "outputs": [
    {
     "data": {
      "text/plain": [
       "(62, 7)"
      ]
     },
     "execution_count": 82,
     "metadata": {},
     "output_type": "execute_result"
    }
   ],
   "source": [
    "x.shape\n",
    "# check the shape"
   ]
  },
  {
   "cell_type": "code",
   "execution_count": 83,
   "metadata": {},
   "outputs": [],
   "source": [
    "from sklearn.model_selection import train_test_split\n",
    "# from sklearn import train_test_split to find train and test array\n",
    "x_train, x_test, y_train, y_test = train_test_split(x, y,test_size=0.2)\n",
    "x_real_train, x_mse_finder, y_real_train, y_mse_finder = train_test_split(x_train, y_train,test_size=0.35)\n",
    "# choose test size with 0.35 for a better prediction result"
   ]
  },
  {
   "cell_type": "code",
   "execution_count": 84,
   "metadata": {},
   "outputs": [],
   "source": [
    "from sklearn.metrics import mean_absolute_error, mean_squared_error, median_absolute_error, explained_variance_score, r2_score"
   ]
  },
  {
   "cell_type": "markdown",
   "metadata": {},
   "source": [
    "Multiple Linear Regression"
   ]
  },
  {
   "cell_type": "code",
   "execution_count": 85,
   "metadata": {},
   "outputs": [
    {
     "data": {
      "text/plain": [
       "-1.063924951753823"
      ]
     },
     "execution_count": 85,
     "metadata": {},
     "output_type": "execute_result"
    }
   ],
   "source": [
    "from sklearn.linear_model import LinearRegression\n",
    "model = LinearRegression().fit(x_train,y_train)\n",
    "y_pred = model.predict(x_test)\n",
    "r2_score(y_test,y_pred)\n",
    "# linear regression "
   ]
  },
  {
   "cell_type": "code",
   "execution_count": 86,
   "metadata": {},
   "outputs": [
    {
     "data": {
      "image/png": "[encoded data removed]",
      "text/plain": [
       "<Figure size 432x288 with 1 Axes>"
      ]
     },
     "metadata": {
      "needs_background": "light"
     },
     "output_type": "display_data"
    }
   ],
   "source": [
    "import matplotlib.pyplot as plt\n",
    "plt.plot(range(len(y_pred)),y_pred)\n",
    "plt.plot(range(len(y_test)),y_test)\n",
    "plt.legend(['predict','test']) # legend in figure\n",
    "plt.show()\n",
    "# shoe predict and test linear relationship"
   ]
  },
  {
   "cell_type": "markdown",
   "metadata": {},
   "source": [
    "logistic regression"
   ]
  },
  {
   "cell_type": "code",
   "execution_count": 87,
   "metadata": {},
   "outputs": [
    {
     "name": "stderr",
     "output_type": "stream",
     "text": [
      "B:\\anacondaapp\\lib\\site-packages\\sklearn\\linear_model\\_logistic.py:762: ConvergenceWarning: lbfgs failed to converge (status=1):\n",
      "STOP: TOTAL NO. of ITERATIONS REACHED LIMIT.\n",
      "\n",
      "Increase the number of iterations (max_iter) or scale the data as shown in:\n",
      "    https://scikit-learn.org/stable/modules/preprocessing.html\n",
      "Please also refer to the documentation for alternative solver options:\n",
      "    https://scikit-learn.org/stable/modules/linear_model.html#logistic-regression\n",
      "  n_iter_i = _check_optimize_result(\n"
     ]
    },
    {
     "data": {
      "text/plain": [
       "-1.4193915578390914"
      ]
     },
     "execution_count": 87,
     "metadata": {},
     "output_type": "execute_result"
    }
   ],
   "source": [
    "from sklearn.linear_model import LogisticRegression\n",
    "model = LogisticRegression(random_state=0).fit(x_train,y_train.astype('int'))\n",
    "y_pred_lr = model.predict(x_test)\n",
    "r2_score(y_test,y_pred_lr)"
   ]
  },
  {
   "cell_type": "markdown",
   "metadata": {},
   "source": [
    "because  r2_score(y_test,y_pred_lr) < r2_score(y_test,y_pred) so we choose linear regression"
   ]
  },
  {
   "cell_type": "code",
   "execution_count": 88,
   "metadata": {},
   "outputs": [
    {
     "name": "stdout",
     "output_type": "stream",
     "text": [
      "18.039354339081807\n"
     ]
    }
   ],
   "source": [
    "from sklearn.linear_model import LinearRegression\n",
    "from sklearn.metrics import mean_squared_error\n",
    "model = LinearRegression().fit(x_real_train,y_real_train)\n",
    "y_mse_pred = model.predict(x_mse_finder)\n",
    "y_pred = model.predict(x_test)\n",
    "mse_reference = mean_squared_error(y_mse_finder,y_mse_pred)\n",
    "print(mse_reference)\n",
    "# find MSE as a reference"
   ]
  },
  {
   "cell_type": "code",
   "execution_count": 89,
   "metadata": {
    "scrolled": true
   },
   "outputs": [
    {
     "data": {
      "image/png": "[encoded data removed]",
      "text/plain": [
       "<Figure size 432x288 with 1 Axes>"
      ]
     },
     "metadata": {
      "needs_background": "light"
     },
     "output_type": "display_data"
    }
   ],
   "source": [
    "import matplotlib.pyplot as plt\n",
    "plt.plot(range(len(y_pred)),y_pred)\n",
    "plt.plot(range(len(y_test)),y_test)\n",
    "\n",
    "import copy\n",
    "copy_pred = copy.deepcopy(y_pred)\n",
    "mean_error = (mean_squared_error(y_test,y_pred)) ** 0.5\n",
    "for index in range(len(y_mse_pred)):\n",
    "    if abs(y_mse_pred[index] + mse_reference - y_mse_finder[index]) >= abs(y_mse_pred[index] - mse_reference - y_mse_finder[index]):\n",
    "        if index < len(copy_pred):\n",
    "            copy_pred[index] = copy_pred[index] - mean_error\n",
    "    else:\n",
    "        if index < len(copy_pred):\n",
    "            copy_pred[index] = copy_pred[index] + mean_error\n",
    "    \n",
    "plt.plot(range(len(copy_pred)),copy_pred)\n",
    "plt.legend(['predict','test','new'])\n",
    "plt.show()\n",
    "\n",
    "# plot another graph as a complement to show the relationship with MSE prediction"
   ]
  },
  {
   "cell_type": "code",
   "execution_count": 111,
   "metadata": {},
   "outputs": [
    {
     "name": "stdout",
     "output_type": "stream",
     "text": [
      "16.41382849364405 16.41382849364405 3.6085255778961054 0.2740525082751767 0.1293229203377051\n"
     ]
    }
   ],
   "source": [
    "print(mean_squared_error(y_test,y_pred),\n",
    "mean_squared_error(y_test,y_pred),\n",
    "median_absolute_error(y_test,y_pred),\n",
    "explained_variance_score(y_test,y_pred),\n",
    "r2_score(y_test,y_pred))\n"
   ]
  },
  {
   "cell_type": "markdown",
   "metadata": {},
   "source": [
    "\n",
    "Cross-validation"
   ]
  },
  {
   "cell_type": "code",
   "execution_count": 91,
   "metadata": {},
   "outputs": [],
   "source": [
    "from sklearn.model_selection import KFold"
   ]
  },
  {
   "cell_type": "code",
   "execution_count": 92,
   "metadata": {},
   "outputs": [
    {
     "data": {
      "text/plain": [
       "<generator object _BaseKFold.split at 0x000001C117B2CDD0>"
      ]
     },
     "execution_count": 92,
     "metadata": {},
     "output_type": "execute_result"
    }
   ],
   "source": [
    "kf = KFold(5)\n",
    "kf.split(x)"
   ]
  },
  {
   "cell_type": "code",
   "execution_count": 93,
   "metadata": {},
   "outputs": [],
   "source": [
    "i = 0\n",
    "r2value = np.zeros((5,1))\n",
    "for train_index, test_index in kf.split(x):\n",
    "    x_train = x[train_index]\n",
    "    x_test = x[test_index]\n",
    "    y_train = y[train_index]\n",
    "    y_test = y[test_index]\n",
    "    model = LinearRegression().fit(x_train,y_train)\n",
    "    y_pred = model.predict(x_test)\n",
    "    r2value[i] = r2_score(y_test,y_pred)\n",
    "    i = i + 1"
   ]
  },
  {
   "cell_type": "code",
   "execution_count": 94,
   "metadata": {},
   "outputs": [
    {
     "data": {
      "text/plain": [
       "array([[-7.26351465],\n",
       "       [-0.53587477],\n",
       "       [ 0.37790281],\n",
       "       [ 0.08302571],\n",
       "       [ 0.12932292]])"
      ]
     },
     "execution_count": 94,
     "metadata": {},
     "output_type": "execute_result"
    }
   ],
   "source": [
    " r2value"
   ]
  },
  {
   "cell_type": "code",
   "execution_count": 95,
   "metadata": {},
   "outputs": [
    {
     "data": {
      "text/plain": [
       "array([[6.45000000e+02, 3.86000000e+01, 6.65400000e+03, 5.71200000e+03,\n",
       "        3.00000000e+00, 5.00000000e+00, 3.00000000e+00],\n",
       "       [4.20000000e+01, 4.50000000e+00, 1.00000000e+00, 6.60000000e+00,\n",
       "        3.00000000e+00, 1.00000000e+00, 3.00000000e+00],\n",
       "       [6.00000000e+01, 1.40000000e+01, 3.38500000e+00, 4.45000000e+01,\n",
       "        1.00000000e+00, 1.00000000e+00, 1.00000000e+00],\n",
       "       [2.50000000e+01, 1.98775862e+01, 9.20000000e-01, 5.70000000e+00,\n",
       "        5.00000000e+00, 2.00000000e+00, 3.00000000e+00],\n",
       "       [6.24000000e+02, 6.90000000e+01, 2.54700000e+03, 4.60300000e+03,\n",
       "        3.00000000e+00, 5.00000000e+00, 4.00000000e+00],\n",
       "       [1.80000000e+02, 2.70000000e+01, 1.05500000e+01, 1.79500000e+02,\n",
       "        4.00000000e+00, 4.00000000e+00, 4.00000000e+00],\n",
       "       [3.50000000e+01, 1.90000000e+01, 2.30000000e-02, 3.00000000e-01,\n",
       "        1.00000000e+00, 1.00000000e+00, 1.00000000e+00],\n",
       "       [3.92000000e+02, 3.04000000e+01, 1.60000000e+02, 1.69000000e+02,\n",
       "        4.00000000e+00, 5.00000000e+00, 4.00000000e+00],\n",
       "       [6.30000000e+01, 2.80000000e+01, 3.30000000e+00, 2.56000000e+01,\n",
       "        1.00000000e+00, 2.00000000e+00, 1.00000000e+00],\n",
       "       [2.30000000e+02, 5.00000000e+01, 5.21600000e+01, 4.40000000e+02,\n",
       "        1.00000000e+00, 1.00000000e+00, 1.00000000e+00],\n",
       "       [1.12000000e+02, 7.00000000e+00, 4.25000000e-01, 6.40000000e+00,\n",
       "        5.00000000e+00, 4.00000000e+00, 4.00000000e+00],\n",
       "       [2.81000000e+02, 3.00000000e+01, 4.65000000e+02, 4.23000000e+02,\n",
       "        5.00000000e+00, 5.00000000e+00, 5.00000000e+00],\n",
       "       [1.42353448e+02, 1.98775862e+01, 5.50000000e-01, 2.40000000e+00,\n",
       "        2.00000000e+00, 1.00000000e+00, 2.00000000e+00],\n",
       "       [3.65000000e+02, 4.00000000e+01, 1.87100000e+02, 4.19000000e+02,\n",
       "        5.00000000e+00, 5.00000000e+00, 5.00000000e+00],\n",
       "       [4.20000000e+01, 3.50000000e+00, 7.50000000e-02, 1.20000000e+00,\n",
       "        1.00000000e+00, 1.00000000e+00, 1.00000000e+00],\n",
       "       [2.80000000e+01, 5.00000000e+01, 3.00000000e+00, 2.50000000e+01,\n",
       "        2.00000000e+00, 2.00000000e+00, 2.00000000e+00],\n",
       "       [4.20000000e+01, 6.00000000e+00, 7.85000000e-01, 3.50000000e+00,\n",
       "        2.00000000e+00, 2.00000000e+00, 2.00000000e+00],\n",
       "       [1.20000000e+02, 1.04000000e+01, 2.00000000e-01, 5.00000000e+00,\n",
       "        2.00000000e+00, 2.00000000e+00, 2.00000000e+00],\n",
       "       [1.42353448e+02, 3.40000000e+01, 1.41000000e+00, 1.75000000e+01,\n",
       "        1.00000000e+00, 2.00000000e+00, 1.00000000e+00],\n",
       "       [1.42353448e+02, 7.00000000e+00, 6.00000000e+01, 8.10000000e+01,\n",
       "        1.00000000e+00, 1.00000000e+00, 1.00000000e+00],\n",
       "       [4.00000000e+02, 2.80000000e+01, 5.29000000e+02, 6.80000000e+02,\n",
       "        5.00000000e+00, 5.00000000e+00, 5.00000000e+00],\n",
       "       [1.48000000e+02, 2.00000000e+01, 2.76600000e+01, 1.15000000e+02,\n",
       "        5.00000000e+00, 5.00000000e+00, 5.00000000e+00],\n",
       "       [1.60000000e+01, 3.90000000e+00, 1.20000000e-01, 1.00000000e+00,\n",
       "        3.00000000e+00, 1.00000000e+00, 2.00000000e+00],\n",
       "       [2.52000000e+02, 3.93000000e+01, 2.07000000e+02, 4.06000000e+02,\n",
       "        1.00000000e+00, 4.00000000e+00, 1.00000000e+00],\n",
       "       [3.10000000e+02, 4.10000000e+01, 8.50000000e+01, 3.25000000e+02,\n",
       "        1.00000000e+00, 3.00000000e+00, 1.00000000e+00],\n",
       "       [6.30000000e+01, 1.62000000e+01, 3.63300000e+01, 1.19500000e+02,\n",
       "        1.00000000e+00, 1.00000000e+00, 1.00000000e+00],\n",
       "       [2.80000000e+01, 9.00000000e+00, 1.01000000e-01, 4.00000000e+00,\n",
       "        5.00000000e+00, 1.00000000e+00, 3.00000000e+00],\n",
       "       [6.80000000e+01, 7.60000000e+00, 1.04000000e+00, 5.50000000e+00,\n",
       "        5.00000000e+00, 3.00000000e+00, 4.00000000e+00],\n",
       "       [3.36000000e+02, 4.60000000e+01, 5.21000000e+02, 6.55000000e+02,\n",
       "        5.00000000e+00, 5.00000000e+00, 5.00000000e+00],\n",
       "       [1.00000000e+02, 2.24000000e+01, 1.00000000e+02, 1.57000000e+02,\n",
       "        1.00000000e+00, 1.00000000e+00, 1.00000000e+00],\n",
       "       [3.30000000e+01, 1.63000000e+01, 3.50000000e+01, 5.60000000e+01,\n",
       "        3.00000000e+00, 5.00000000e+00, 4.00000000e+00],\n",
       "       [2.15000000e+01, 2.60000000e+00, 5.00000000e-03, 1.40000000e-01,\n",
       "        5.00000000e+00, 2.00000000e+00, 4.00000000e+00],\n",
       "       [5.00000000e+01, 2.40000000e+01, 1.00000000e-02, 2.50000000e-01,\n",
       "        1.00000000e+00, 1.00000000e+00, 1.00000000e+00],\n",
       "       [2.67000000e+02, 1.00000000e+02, 6.20000000e+01, 1.32000000e+03,\n",
       "        1.00000000e+00, 1.00000000e+00, 1.00000000e+00],\n",
       "       [3.00000000e+01, 1.98775862e+01, 1.22000000e-01, 3.00000000e+00,\n",
       "        2.00000000e+00, 1.00000000e+00, 1.00000000e+00],\n",
       "       [4.50000000e+01, 1.98775862e+01, 1.35000000e+00, 8.10000000e+00,\n",
       "        3.00000000e+00, 1.00000000e+00, 3.00000000e+00],\n",
       "       [1.90000000e+01, 3.20000000e+00, 2.30000000e-02, 4.00000000e-01,\n",
       "        4.00000000e+00, 1.00000000e+00, 3.00000000e+00],\n",
       "       [3.00000000e+01, 2.00000000e+00, 4.80000000e-02, 3.30000000e-01,\n",
       "        4.00000000e+00, 1.00000000e+00, 3.00000000e+00],\n",
       "       [1.20000000e+01, 5.00000000e+00, 1.70000000e+00, 6.30000000e+00,\n",
       "        2.00000000e+00, 1.00000000e+00, 1.00000000e+00],\n",
       "       [1.20000000e+02, 6.50000000e+00, 3.50000000e+00, 1.08000000e+01,\n",
       "        2.00000000e+00, 1.00000000e+00, 1.00000000e+00],\n",
       "       [4.40000000e+02, 2.36000000e+01, 2.50000000e+02, 4.90000000e+02,\n",
       "        5.00000000e+00, 5.00000000e+00, 5.00000000e+00],\n",
       "       [1.40000000e+02, 1.20000000e+01, 4.80000000e-01, 1.55000000e+01,\n",
       "        2.00000000e+00, 2.00000000e+00, 2.00000000e+00],\n",
       "       [1.70000000e+02, 2.02000000e+01, 1.00000000e+01, 1.15000000e+02,\n",
       "        4.00000000e+00, 4.00000000e+00, 4.00000000e+00],\n",
       "       [1.70000000e+01, 1.30000000e+01, 1.62000000e+00, 1.14000000e+01,\n",
       "        2.00000000e+00, 1.00000000e+00, 2.00000000e+00],\n",
       "       [1.15000000e+02, 2.70000000e+01, 1.92000000e+02, 1.80000000e+02,\n",
       "        4.00000000e+00, 4.00000000e+00, 4.00000000e+00],\n",
       "       [3.10000000e+01, 1.80000000e+01, 2.50000000e+00, 1.21000000e+01,\n",
       "        5.00000000e+00, 5.00000000e+00, 5.00000000e+00],\n",
       "       [6.30000000e+01, 1.37000000e+01, 4.28800000e+00, 3.92000000e+01,\n",
       "        2.00000000e+00, 2.00000000e+00, 2.00000000e+00],\n",
       "       [2.10000000e+01, 4.70000000e+00, 2.80000000e-01, 1.90000000e+00,\n",
       "        3.00000000e+00, 1.00000000e+00, 3.00000000e+00],\n",
       "       [5.20000000e+01, 9.80000000e+00, 4.23500000e+00, 5.04000000e+01,\n",
       "        1.00000000e+00, 1.00000000e+00, 1.00000000e+00],\n",
       "       [1.64000000e+02, 2.90000000e+01, 6.80000000e+00, 1.79000000e+02,\n",
       "        2.00000000e+00, 3.00000000e+00, 2.00000000e+00],\n",
       "       [2.25000000e+02, 7.00000000e+00, 7.50000000e-01, 1.23000000e+01,\n",
       "        2.00000000e+00, 2.00000000e+00, 2.00000000e+00],\n",
       "       [2.25000000e+02, 6.00000000e+00, 3.60000000e+00, 2.10000000e+01,\n",
       "        3.00000000e+00, 2.00000000e+00, 3.00000000e+00],\n",
       "       [1.50000000e+02, 1.70000000e+01, 1.48300000e+01, 9.82000000e+01,\n",
       "        5.00000000e+00, 5.00000000e+00, 5.00000000e+00],\n",
       "       [1.51000000e+02, 2.00000000e+01, 5.55000000e+01, 1.75000000e+02,\n",
       "        5.00000000e+00, 5.00000000e+00, 5.00000000e+00],\n",
       "       [9.00000000e+01, 1.27000000e+01, 1.40000000e+00, 1.25000000e+01,\n",
       "        2.00000000e+00, 2.00000000e+00, 2.00000000e+00],\n",
       "       [1.42353448e+02, 3.50000000e+00, 6.00000000e-02, 1.00000000e+00,\n",
       "        3.00000000e+00, 1.00000000e+00, 2.00000000e+00],\n",
       "       [6.00000000e+01, 4.50000000e+00, 9.00000000e-01, 2.60000000e+00,\n",
       "        2.00000000e+00, 1.00000000e+00, 2.00000000e+00],\n",
       "       [2.00000000e+02, 7.50000000e+00, 2.00000000e+00, 1.23000000e+01,\n",
       "        3.00000000e+00, 1.00000000e+00, 3.00000000e+00],\n",
       "       [4.60000000e+01, 2.30000000e+00, 1.04000000e-01, 2.50000000e+00,\n",
       "        3.00000000e+00, 2.00000000e+00, 2.00000000e+00],\n",
       "       [2.10000000e+02, 2.40000000e+01, 4.19000000e+00, 5.80000000e+01,\n",
       "        4.00000000e+00, 3.00000000e+00, 4.00000000e+00],\n",
       "       [1.40000000e+01, 3.00000000e+00, 3.50000000e+00, 3.90000000e+00,\n",
       "        2.00000000e+00, 1.00000000e+00, 1.00000000e+00],\n",
       "       [3.80000000e+01, 1.30000000e+01, 4.05000000e+00, 1.70000000e+01,\n",
       "        3.00000000e+00, 1.00000000e+00, 1.00000000e+00]])"
      ]
     },
     "execution_count": 95,
     "metadata": {},
     "output_type": "execute_result"
    }
   ],
   "source": [
    "x"
   ]
  },
  {
   "cell_type": "markdown",
   "metadata": {},
   "source": [
    "drop the outliers and compare"
   ]
  },
  {
   "cell_type": "code",
   "execution_count": 96,
   "metadata": {
    "scrolled": true
   },
   "outputs": [
    {
     "data": {
      "text/plain": [
       "array([[1.00000000e+00, 3.73469388e-01, 1.00000000e+00, 1.00000000e+00,\n",
       "        5.00000000e-01, 1.00000000e+00, 5.00000000e-01],\n",
       "       [4.73933649e-02, 2.55102041e-02, 1.49534227e-04, 1.13098010e-03,\n",
       "        5.00000000e-01, 0.00000000e+00, 5.00000000e-01],\n",
       "       [7.58293839e-02, 1.22448980e-01, 5.07965515e-04, 7.76629679e-03,\n",
       "        0.00000000e+00, 0.00000000e+00, 0.00000000e+00],\n",
       "       [2.05371248e-02, 1.82424349e-01, 1.37511375e-04, 9.73413214e-04,\n",
       "        1.00000000e+00, 2.50000000e-01, 5.00000000e-01],\n",
       "       [9.66824645e-01, 6.83673469e-01, 3.82776813e-01, 8.05842580e-01,\n",
       "        5.00000000e-01, 1.00000000e+00, 7.50000000e-01],\n",
       "       [2.65402844e-01, 2.55102041e-01, 1.58476224e-03, 3.14013299e-02,\n",
       "        7.50000000e-01, 7.50000000e-01, 7.50000000e-01],\n",
       "       [3.63349131e-02, 1.73469388e-01, 2.70514180e-06, 2.80118910e-05,\n",
       "        0.00000000e+00, 0.00000000e+00, 0.00000000e+00],\n",
       "       [6.00315956e-01, 2.89795918e-01, 2.40449534e-02, 2.95630495e-02,\n",
       "        7.50000000e-01, 1.00000000e+00, 7.50000000e-01],\n",
       "       [8.05687204e-02, 2.65306122e-01, 4.95191235e-04, 4.45739216e-03,\n",
       "        0.00000000e+00, 2.50000000e-01, 0.00000000e+00],\n",
       "       [3.44391785e-01, 4.89795918e-01, 7.83814836e-03, 7.70081900e-02,\n",
       "        0.00000000e+00, 0.00000000e+00, 0.00000000e+00],\n",
       "       [1.57977883e-01, 5.10204082e-02, 6.31199753e-05, 1.09596524e-03,\n",
       "        1.00000000e+00, 7.50000000e-01, 7.50000000e-01],\n",
       "       [4.24960506e-01, 2.85714286e-01, 6.98820784e-02, 7.40319266e-02,\n",
       "        1.00000000e+00, 1.00000000e+00, 1.00000000e+00],\n",
       "       [2.05929618e-01, 1.82424349e-01, 8.19056822e-05, 3.95667961e-04,\n",
       "        2.50000000e-01, 0.00000000e+00, 2.50000000e-01],\n",
       "       [5.57661927e-01, 3.87755102e-01, 2.81176947e-02, 7.33316293e-02,\n",
       "        1.00000000e+00, 1.00000000e+00, 1.00000000e+00],\n",
       "       [4.73933649e-02, 1.53061224e-02, 1.05199959e-05, 1.85578778e-04,\n",
       "        0.00000000e+00, 0.00000000e+00, 0.00000000e+00],\n",
       "       [2.52764613e-02, 4.89795918e-01, 4.50105538e-04, 4.35234757e-03,\n",
       "        2.50000000e-01, 2.50000000e-01, 2.50000000e-01],\n",
       "       [4.73933649e-02, 4.08163265e-02, 1.17222811e-04, 5.88249712e-04,\n",
       "        2.50000000e-01, 2.50000000e-01, 2.50000000e-01],\n",
       "       [1.70616114e-01, 8.57142857e-02, 2.93057028e-05, 8.50861191e-04,\n",
       "        2.50000000e-01, 2.50000000e-01, 2.50000000e-01],\n",
       "       [2.05929618e-01, 3.26530612e-01, 2.11151346e-04, 3.03929018e-03,\n",
       "        0.00000000e+00, 2.50000000e-01, 0.00000000e+00],\n",
       "       [2.05929618e-01, 5.10204082e-02, 9.01638790e-03, 1.41565094e-02,\n",
       "        0.00000000e+00, 0.00000000e+00, 0.00000000e+00],\n",
       "       [6.12954186e-01, 2.65306122e-01, 7.95003603e-02, 1.19026027e-01,\n",
       "        1.00000000e+00, 1.00000000e+00, 1.00000000e+00],\n",
       "       [2.14849921e-01, 1.83673469e-01, 4.15614980e-03, 2.01090363e-02,\n",
       "        1.00000000e+00, 1.00000000e+00, 1.00000000e+00],\n",
       "       [6.31911532e-03, 1.93877551e-02, 1.72828504e-05, 1.50563914e-04,\n",
       "        5.00000000e-01, 0.00000000e+00, 2.50000000e-01],\n",
       "       [3.79146919e-01, 3.80612245e-01, 3.11083793e-02, 7.10556631e-02,\n",
       "        0.00000000e+00, 7.50000000e-01, 0.00000000e+00],\n",
       "       [4.70774092e-01, 3.97959184e-01, 1.27735293e-02, 5.68746433e-02,\n",
       "        0.00000000e+00, 5.00000000e-01, 0.00000000e+00],\n",
       "       [8.05687204e-02, 1.44897959e-01, 5.45912643e-03, 2.08968707e-02,\n",
       "        0.00000000e+00, 0.00000000e+00, 0.00000000e+00],\n",
       "       [2.52764613e-02, 7.14285714e-02, 1.44274229e-05, 6.75786872e-04,\n",
       "        1.00000000e+00, 0.00000000e+00, 5.00000000e-01],\n",
       "       [8.84676145e-02, 5.71428571e-02, 1.55545653e-04, 9.38398350e-04,\n",
       "        1.00000000e+00, 5.00000000e-01, 7.50000000e-01],\n",
       "       [5.11848341e-01, 4.48979592e-01, 7.82980751e-02, 1.14649169e-01,\n",
       "        1.00000000e+00, 1.00000000e+00, 1.00000000e+00],\n",
       "       [1.39020537e-01, 2.08163265e-01, 1.50278141e-02, 2.74621577e-02,\n",
       "        0.00000000e+00, 0.00000000e+00, 0.00000000e+00],\n",
       "       [3.31753555e-02, 1.45918367e-01, 5.25924651e-03, 9.77965146e-03,\n",
       "        5.00000000e-01, 1.00000000e+00, 7.50000000e-01],\n",
       "       [1.50078989e-02, 6.12244898e-03, 0.00000000e+00, 0.00000000e+00,\n",
       "        1.00000000e+00, 2.50000000e-01, 7.50000000e-01],\n",
       "       [6.00315956e-02, 2.24489796e-01, 7.51428277e-07, 1.92581751e-05,\n",
       "        0.00000000e+00, 0.00000000e+00, 0.00000000e+00],\n",
       "       [4.02843602e-01, 1.00000000e+00, 9.31695921e-03, 2.31073591e-01,\n",
       "        0.00000000e+00, 0.00000000e+00, 0.00000000e+00],\n",
       "       [2.84360190e-02, 1.82424349e-01, 1.75834217e-05, 5.00712552e-04,\n",
       "        2.50000000e-01, 0.00000000e+00, 0.00000000e+00],\n",
       "       [5.21327014e-02, 1.82424349e-01, 2.02134207e-04, 1.39359158e-03,\n",
       "        5.00000000e-01, 0.00000000e+00, 5.00000000e-01],\n",
       "       [1.10584518e-02, 1.22448980e-02, 2.70514180e-06, 4.55193230e-05,\n",
       "        7.50000000e-01, 0.00000000e+00, 5.00000000e-01],\n",
       "       [2.84360190e-02, 0.00000000e+00, 6.46228318e-06, 3.32641206e-05,\n",
       "        7.50000000e-01, 0.00000000e+00, 5.00000000e-01],\n",
       "       [0.00000000e+00, 3.06122449e-02, 2.54734186e-04, 1.07845781e-03,\n",
       "        2.50000000e-01, 0.00000000e+00, 0.00000000e+00],\n",
       "       [1.70616114e-01, 4.59183673e-02, 5.25248366e-04, 1.86629224e-03,\n",
       "        2.50000000e-01, 0.00000000e+00, 0.00000000e+00],\n",
       "       [6.76145340e-01, 2.20408163e-01, 3.75706624e-02, 8.57619059e-02,\n",
       "        1.00000000e+00, 1.00000000e+00, 1.00000000e+00],\n",
       "       [2.02211690e-01, 1.02040816e-01, 7.13856863e-05, 2.68914154e-03,\n",
       "        2.50000000e-01, 2.50000000e-01, 2.50000000e-01],\n",
       "       [2.49605055e-01, 1.85714286e-01, 1.50210513e-03, 2.01090363e-02,\n",
       "        7.50000000e-01, 7.50000000e-01, 7.50000000e-01],\n",
       "       [7.89889415e-03, 1.12244898e-01, 2.42711334e-04, 1.97133683e-03,\n",
       "        2.50000000e-01, 0.00000000e+00, 2.50000000e-01],\n",
       "       [1.62717220e-01, 2.55102041e-01, 2.88540944e-02, 3.14888670e-02,\n",
       "        7.50000000e-01, 7.50000000e-01, 7.50000000e-01],\n",
       "       [3.00157978e-02, 1.63265306e-01, 3.74962710e-04, 2.09388886e-03,\n",
       "        1.00000000e+00, 1.00000000e+00, 1.00000000e+00],\n",
       "       [8.05687204e-02, 1.19387755e-01, 6.43673462e-04, 6.83840290e-03,\n",
       "        2.50000000e-01, 2.50000000e-01, 2.50000000e-01],\n",
       "       [1.42180095e-02, 2.75510204e-02, 4.13285553e-05, 3.08130802e-04,\n",
       "        5.00000000e-01, 0.00000000e+00, 5.00000000e-01],\n",
       "       [6.31911532e-02, 7.95918367e-02, 6.35708323e-04, 8.79923528e-03,\n",
       "        0.00000000e+00, 0.00000000e+00, 0.00000000e+00],\n",
       "       [2.40126382e-01, 2.75510204e-01, 1.02119103e-03, 3.13137927e-02,\n",
       "        2.50000000e-01, 5.00000000e-01, 2.50000000e-01],\n",
       "       [3.36492891e-01, 5.10204082e-02, 1.11962813e-04, 2.12890372e-03,\n",
       "        2.50000000e-01, 2.50000000e-01, 2.50000000e-01],\n",
       "       [3.36492891e-01, 4.08163265e-02, 5.40276931e-04, 3.65205030e-03,\n",
       "        5.00000000e-01, 2.50000000e-01, 5.00000000e-01],\n",
       "       [2.18009479e-01, 1.53061224e-01, 2.22798484e-03, 1.71677877e-02,\n",
       "        1.00000000e+00, 1.00000000e+00, 1.00000000e+00],\n",
       "       [2.19589258e-01, 1.83673469e-01, 8.34010245e-03, 3.06134954e-02,\n",
       "        1.00000000e+00, 1.00000000e+00, 1.00000000e+00],\n",
       "       [1.23222749e-01, 1.09183673e-01, 2.09648489e-04, 2.16391858e-03,\n",
       "        2.50000000e-01, 2.50000000e-01, 2.50000000e-01],\n",
       "       [2.05929618e-01, 1.53061224e-02, 8.26571105e-06, 1.50563914e-04,\n",
       "        5.00000000e-01, 0.00000000e+00, 2.50000000e-01],\n",
       "       [7.58293839e-02, 2.55102041e-02, 1.34505662e-04, 4.30682825e-04,\n",
       "        2.50000000e-01, 0.00000000e+00, 2.50000000e-01],\n",
       "       [2.96998420e-01, 5.61224490e-02, 2.99819883e-04, 2.12890372e-03,\n",
       "        5.00000000e-01, 0.00000000e+00, 5.00000000e-01],\n",
       "       [5.37124803e-02, 3.06122449e-03, 1.48782799e-05, 4.13175393e-04,\n",
       "        5.00000000e-01, 2.50000000e-01, 2.50000000e-01],\n",
       "       [3.12796209e-01, 2.24489796e-01, 6.28945468e-04, 1.01298001e-02,\n",
       "        7.50000000e-01, 5.00000000e-01, 7.50000000e-01],\n",
       "       [3.15955766e-03, 1.02040816e-02, 5.25248366e-04, 6.58279440e-04,\n",
       "        2.50000000e-01, 0.00000000e+00, 0.00000000e+00],\n",
       "       [4.10742496e-02, 1.12244898e-01, 6.07905476e-04, 2.95175302e-03,\n",
       "        5.00000000e-01, 0.00000000e+00, 0.00000000e+00]])"
      ]
     },
     "execution_count": 96,
     "metadata": {},
     "output_type": "execute_result"
    }
   ],
   "source": [
    "from sklearn.preprocessing import MinMaxScaler\n",
    "X = MinMaxScaler().fit_transform(x)\n",
    "X"
   ]
  },
  {
   "cell_type": "markdown",
   "metadata": {},
   "source": [
    "optimise value r2value"
   ]
  },
  {
   "cell_type": "code",
   "execution_count": 97,
   "metadata": {},
   "outputs": [],
   "source": [
    "i = 0\n",
    "max_r2value = 0\n",
    "r2value = np.zeros((5,1))\n",
    "for train_index, test_index in kf.split(x):\n",
    "    x_train = x[train_index]\n",
    "    x_test = x[test_index]\n",
    "    y_train = y[train_index]\n",
    "    y_test = y[test_index]\n",
    "    model = LinearRegression().fit(x_train,y_train)\n",
    "    y_pred = model.predict(x_test)\n",
    "    r2value[i] = r2_score(y_test,y_pred)\n",
    "    if max_r2value < r2_score(y_test,y_pred):\n",
    "        max_r2value = r2_score(y_test,y_pred)\n",
    "        y_pred_best = y_pred\n",
    "        y_test_best = y_test\n",
    "    i = i + 1"
   ]
  },
  {
   "cell_type": "code",
   "execution_count": 98,
   "metadata": {},
   "outputs": [
    {
     "data": {
      "image/png": "[encoded data removed]",
      "text/plain": [
       "<Figure size 432x288 with 1 Axes>"
      ]
     },
     "metadata": {
      "needs_background": "light"
     },
     "output_type": "display_data"
    }
   ],
   "source": [
    "import matplotlib.pyplot as plt\n",
    "plt.plot(range(len(y_pred)),y_pred_best)\n",
    "plt.plot(range(len(y_test)),y_test_best)\n",
    "plt.legend(['predict','test']) # legend in figure\n",
    "plt.show()"
   ]
  },
  {
   "cell_type": "code",
   "execution_count": 99,
   "metadata": {},
   "outputs": [
    {
     "data": {
      "text/plain": [
       "0.377902813648185"
      ]
     },
     "execution_count": 99,
     "metadata": {},
     "output_type": "execute_result"
    }
   ],
   "source": [
    "max_r2value"
   ]
  },
  {
   "cell_type": "markdown",
   "metadata": {},
   "source": [
    "# ridge regression "
   ]
  },
  {
   "cell_type": "code",
   "execution_count": 102,
   "metadata": {},
   "outputs": [
    {
     "data": {
      "image/png": "[encoded data removed]",
      "text/plain": [
       "<Figure size 432x288 with 1 Axes>"
      ]
     },
     "metadata": {
      "needs_background": "light"
     },
     "output_type": "display_data"
    }
   ],
   "source": [
    "\n",
    "import numpy as np\n",
    "\n",
    "import matplotlib.pyplot as plt\n",
    "\n",
    " \n",
    "\n",
    "def ridgeRegres(xMat,yMat,lam=0.2):\n",
    "\n",
    "    xTx = xMat.T*xMat\n",
    "\n",
    "    denom = xTx + np.eye(np.shape(xMat)[1])*lam\n",
    "\n",
    "    if np.linalg.det(denom) == 0.0:\n",
    "\n",
    "        print(\"This matrix is singular, cannot do inverse\")\n",
    "\n",
    "        return\n",
    "\n",
    "    ws = denom.I * (xMat.T*yMat)\n",
    "\n",
    "    return ws\n",
    "\n",
    " \n",
    "\n",
    "def ridgeTest(xArr,yArr):\n",
    "\n",
    "    xMat = np.mat(xArr); yMat=np.mat(yArr).T\n",
    "\n",
    "    yMean = np.mean(yMat) # 数据标准化\n",
    "\n",
    "    # print(yMean)\n",
    "\n",
    "    yMat = yMat - yMean\n",
    "\n",
    "    # print(xMat)\n",
    "\n",
    "    #regularize X's\n",
    "\n",
    "    xMeans = np.mean(xMat,0)\n",
    "\n",
    "    xVar = np.var(xMat,0)\n",
    "\n",
    "    xMat = (xMat - xMeans) / xVar #（特征-均值）/方差\n",
    "\n",
    "    numTestPts = 30\n",
    "\n",
    "    wMat = np.zeros((numTestPts,np.shape(xMat)[1]))\n",
    "\n",
    "    for i in range(numTestPts): # 测试不同的lambda取值，获得系数\n",
    "\n",
    "        ws = ridgeRegres(xMat,yMat,np.exp(i-10))\n",
    "\n",
    "        wMat[i,:]=ws.T\n",
    "\n",
    "    return wMat\n",
    "\n",
    " \n",
    "\n",
    " \n",
    "\n",
    "# import data\n",
    "\n",
    "\n",
    "xArr = x\n",
    "\n",
    "yArr = y\n",
    "\n",
    "# print(xArr,yArr)\n",
    "\n",
    "ridgeWeights = ridgeTest(xArr,yArr)\n",
    "\n",
    "# print(ridgeWeights)\n",
    "\n",
    "plt.plot(ridgeWeights)\n",
    "\n",
    "plt.show()"
   ]
  },
  {
   "cell_type": "code",
   "execution_count": null,
   "metadata": {},
   "outputs": [],
   "source": []
  }
 ],
 "metadata": {
  "kernelspec": {
   "display_name": "Python 3",
   "language": "python",
   "name": "python3"
  },
  "language_info": {
   "codemirror_mode": {
    "name": "ipython",
    "version": 3
   },
   "file_extension": ".py",
   "mimetype": "text/x-python",
   "name": "python",
   "nbconvert_exporter": "python",
   "pygments_lexer": "ipython3",
   "version": "3.8.3"
  }
 },
 "nbformat": 4,
 "nbformat_minor": 4
}
